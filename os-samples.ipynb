{
 "cells": [
  {
   "cell_type": "raw",
   "id": "5e844f6f-ae00-4091-9334-0541e7129065",
   "metadata": {},
   "source": [
    "Базовые свойства указателей"
   ]
  },
  {
   "cell_type": "code",
   "execution_count": 8,
   "id": "29ba0b84-9cbb-4668-820b-9de539d6f793",
   "metadata": {},
   "outputs": [
    {
     "name": "stdout",
     "output_type": "stream",
     "text": [
      "------------1----------\n",
      "10\n",
      "0x7f4e6e697294 0x7f4e6e697294\n",
      "------------2----------\n",
      "0x7f4e6e697280\n",
      "10\n",
      "-----------3-----------\n",
      "0x7f4e6e697280\n",
      "0x7f4e6e697280\n",
      "-----------4-----------\n",
      "10\n",
      "11\n",
      "----------5------------\n",
      "11\n",
      "----------6------------\n"
     ]
    }
   ],
   "source": [
    "#include <iostream>\n",
    "#include <string>\n",
    "using namespace std;\n",
    "\n",
    "//int a; int*y; a=10; y=&a;\n",
    "int a = 10, *y = &a;\n",
    "\n",
    "//-----любое выражение в Си обозначает значение или переменную-------\n",
    "\n",
    "cout << \"------------1----------\" << endl;\n",
    "int z;\n",
    "cout << (z=*y) << endl;\n",
    "cout << &(z=*y) << ' ' << &z << endl;\n",
    "\n",
    "//----- заметим, что ',' -- это оператор в выражении\n",
    "\n",
    "cout << \"------------2----------\" << endl;\n",
    "cout << (a,y) << endl;\n",
    "cout << (y,a) << endl;\n",
    "\n",
    "//----- значения в смысле переменных называют lvalue-------\n",
    "//------адрес ячейки не является lvalue-------\n",
    "\n",
    "cout << \"-----------3-----------\" << endl;\n",
    "cout << &(*y) << endl;\n",
    "cout << &a << endl;\n",
    "\n",
    "//&(*y) = 10;\n",
    "\n",
    "//-----из адреса получаем lvalue путем разадресации-------\n",
    "cout << \"-----------4-----------\" << endl;\n",
    "cout << *(&a) << endl;\n",
    "*(&a) = 11;\n",
    "cout << a << endl;\n",
    "\n",
    "//-----адресные выражения можно разадресовывать несколько раз-------\n",
    "//-----соответвующие типы выглядят так-------\n",
    "cout << \"----------5------------\" << endl;\n",
    "int **x;\n",
    "x=&y;\n",
    "cout << **x << endl;\n",
    "\n",
    "// x имеет такой тип, двухкратная разадресация которого имеет тип int\n",
    "// объявление типа: int **x; а тип называется int** (убираем ; и имя переменной из объявления)\n",
    "// это имя типа может являться аргументом оператора приведения типа (): (int**)выражение\n",
    "// или аргументом оператора sizeof: sizeof(int**)\n",
    "\n",
    "//-----чтобы улучшить читаемость сложных типов (вроде int**) используют typedef-------\n",
    "cout << \"----------6------------\" << endl;\n",
    "typedef int* INT_POINTER;   //теперь int* и INT_POINTER эквивалентны \n",
    "INT_POINTER w = y;\n",
    "\n",
    "typedef int** INT_DOUBLE_POINTER;\n",
    "// или\n",
    "typedef INT_POINTER* INT_DOUBLE_POINTER;\n",
    "\n",
    "INT_DOUBLE_POINTER d = x;"
   ]
  },
  {
   "cell_type": "raw",
   "id": "4b9b73f4-583e-4b9e-a18f-aeb390bf914d",
   "metadata": {},
   "source": [
    "Пример про оператор &"
   ]
  },
  {
   "cell_type": "code",
   "execution_count": 9,
   "id": "683a3589-210a-4a3f-b7f6-9d4c99cecc63",
   "metadata": {},
   "outputs": [
    {
     "name": "stdout",
     "output_type": "stream",
     "text": [
      "0x7f4e6e6972c4 0x7f4e6e6972c4"
     ]
    }
   ],
   "source": [
    "#include <iostream>\n",
    "#include <string>\n",
    "using namespace std;\n",
    "\n",
    "// оператор & требует аргумент lvalue\n",
    "// выражение expr+1 в Си -- не lvalue\n",
    "// пример правильного аргумента &, включающего x+1\n",
    "\n",
    "int x[5]{1,2,3,4,5};\n",
    "    \n",
    "cout << &(*(x+1))<< \" \" << x+1;"
   ]
  },
  {
   "cell_type": "raw",
   "id": "326cffc6-fb98-4550-999b-b75d6616588e",
   "metadata": {},
   "source": [
    "Указатели на функции"
   ]
  },
  {
   "cell_type": "code",
   "execution_count": 12,
   "id": "1c9293fd-5b2b-48fd-b625-5b27273f0fc6",
   "metadata": {},
   "outputs": [
    {
     "name": "stdout",
     "output_type": "stream",
     "text": [
      "---------int func()----------\n",
      "---------int func()----------\n",
      "---------int func()----------\n",
      "---------int func()----------\n"
     ]
    }
   ],
   "source": [
    "#include <iostream>\n",
    "#include <string>\n",
    "using namespace std;\n",
    "\n",
    "// это определение функции\n",
    "struct dummy{///\n",
    "\n",
    "static int func()\n",
    "{ \n",
    "    cout << \"---------int func()----------\" << endl;\n",
    "    return 42; \n",
    "}\n",
    "    \n",
    "};//////////////\n",
    "\n",
    "// это объявление этой функции\n",
    "//int func();\n",
    "\n",
    "// это указатель на функцию, возвращающую целое значение\n",
    "int (*func_ptr)();\n",
    "\n",
    "// тип этого указателя -- int(*)() \n",
    "// его можно упростить с использованием typedef\n",
    "\n",
    "typedef int (*INT_FUNC_PTR)();\n",
    "\n",
    "// явный вызов функции\n",
    "dummy::func(); // можно игнорировать возвращаемое значение\n",
    "\n",
    "// инициализация указателя на функцию\n",
    "func_ptr = &dummy::func;\n",
    "//или\n",
    "func_ptr = dummy::func;\n",
    "\n",
    "// вызов функции через указатель\n",
    "// явная разадресация\n",
    "(*func_ptr)();\n",
    "// неявная явная разадресация \n",
    "func_ptr();\n",
    "\n",
    "INT_FUNC_PTR new_func_ptr = &dummy::func;\n",
    "\n",
    "new_func_ptr();\n",
    "\n",
    "// в привидении типов тип можно использоввать так\n",
    "new_func_ptr = (int(*)())dummy::func;\n",
    "// или через ранее определенный через typedef так\n",
    "new_func_ptr = (INT_FUNC_PTR)dummy::func;    "
   ]
  },
  {
   "cell_type": "raw",
   "id": "263c4e9a-bf3e-4fc6-b63f-fed9e683baf9",
   "metadata": {},
   "source": [
    "Пример -- будьте внимательны с порядком операций"
   ]
  },
  {
   "cell_type": "code",
   "execution_count": 13,
   "id": "84eafefb-ab58-49b2-ab4c-5976e66544ae",
   "metadata": {},
   "outputs": [
    {
     "name": "stderr",
     "output_type": "stream",
     "text": [
      "input_line_32:4:29: warning: unsequenced modification and access to 'z' [-Wunsequenced]\n",
      "((((cout << z) << \" \") << (z=10)) << endl);\n",
      "            ~               ^\n",
      "input_line_32:5:23: warning: unsequenced modification and access to 'z' [-Wunsequenced]\n",
      "cout << z << \" \" << (z=10) << endl;\n",
      "        ~             ^\n"
     ]
    },
    {
     "name": "stdout",
     "output_type": "stream",
     "text": [
      "5 10\n",
      "10 10\n"
     ]
    }
   ],
   "source": [
    "#include <iostream>\n",
    "#include <string>\n",
    "using namespace std;\n",
    "\n",
    "int z = 5;\n",
    "\n",
    "((((cout << z) << \" \") << (z=10)) << endl);\n",
    "\n",
    "cout << z << \" \" << (z=10) << endl;"
   ]
  },
  {
   "cell_type": "raw",
   "id": "a1a40995-11f8-47ef-8a76-75b60408f748",
   "metadata": {},
   "source": [
    "Динамическая память, операции с указателями, ошибки при работе с указателями"
   ]
  },
  {
   "cell_type": "code",
   "execution_count": null,
   "id": "d0ed7e62-20ad-4ce1-89c0-f69cf87ef172",
   "metadata": {},
   "outputs": [],
   "source": [
    "#include <iostream>\n",
    "#include <string>\n",
    "using namespace std;\n",
    "\n",
    "int* a = new int[5];\n",
    "\n",
    "delete[] a;\n",
    "\n",
    "a = (int*)malloc(sizeof(int)*5);\n",
    "\n",
    "free(a);\n",
    "\n",
    "void* b = malloc(sizeof(int));\n",
    "\n",
    "// *b; не допускается\n",
    "\n",
    "free(b);\n",
    "\n",
    "b = NULL;\n",
    "\n",
    "b = nullptr;\n",
    "\n",
    "int * c;\n",
    "\n",
    "a+1; a-1; a++; a-c; //и другие, но не a+c\n",
    "//a+c;\n",
    "\n",
    "*(a+1); a[1];\n",
    "\n",
    "*(a-1); a[-1];\n",
    "\n",
    "int z[10];\n",
    "int*zz;\n",
    "\n",
    "z+1; zz+1;\n",
    "\n",
    "z; &z; &z[0];// одинаковые\n",
    "\n",
    "zz=z;\n",
    "//z=zz;\n",
    "\n",
    "struct dummy{//////\n",
    "    \n",
    "void wild_ptr()\n",
    "{\n",
    "    int *x;\n",
    "    *x = 5;\n",
    "}\n",
    "\n",
    "void dangling_ptr_1()\n",
    "{\n",
    "    int *x=new int(5);\n",
    "    delete x;\n",
    "    *x=6;\n",
    "}\n",
    "   \n",
    "int* dangling_ptr_2()\n",
    "{\n",
    "    int x[5];\n",
    "    return x;\n",
    "}\n",
    "\n",
    "void mem_leak()\n",
    "{\n",
    "    int *x=new int(5);\n",
    "}\n",
    "    \n",
    "};/////////////////"
   ]
  }
 ],
 "metadata": {
  "kernelspec": {
   "display_name": "C++11",
   "language": "C++11",
   "name": "xcpp11"
  },
  "language_info": {
   "codemirror_mode": "text/x-c++src",
   "file_extension": ".cpp",
   "mimetype": "text/x-c++src",
   "name": "c++",
   "version": "11"
  }
 },
 "nbformat": 4,
 "nbformat_minor": 5
}
